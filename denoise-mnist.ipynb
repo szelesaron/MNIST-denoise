{
 "cells": [
  {
   "cell_type": "code",
   "execution_count": 1,
   "metadata": {},
   "outputs": [],
   "source": [
    "import tensorflow as tf\n",
    "from tensorflow import keras\n",
    "import numpy as np\n",
    "import matplotlib.pyplot as plt"
   ]
  },
  {
   "cell_type": "code",
   "execution_count": 2,
   "metadata": {},
   "outputs": [],
   "source": [
    "(X_train_full, y_train_full), (X_test, y_test) = keras.datasets.mnist.load_data()"
   ]
  },
  {
   "cell_type": "code",
   "execution_count": 3,
   "metadata": {},
   "outputs": [
    {
     "data": {
      "text/plain": [
       "(60000, 28, 28)"
      ]
     },
     "execution_count": 3,
     "metadata": {},
     "output_type": "execute_result"
    }
   ],
   "source": [
    "X_train_full.shape"
   ]
  },
  {
   "cell_type": "code",
   "execution_count": 4,
   "metadata": {},
   "outputs": [],
   "source": [
    "X_train = X_train_full[:50000] / 255\n",
    "y_train = y_train_full[:50000]\n",
    "\n",
    "X_val = X_train_full[50000:] / 255\n",
    "y_val = y_train_full[50000:]\n",
    "\n",
    "X_test = X_test / 255"
   ]
  },
  {
   "cell_type": "code",
   "execution_count": 5,
   "metadata": {},
   "outputs": [
    {
     "data": {
      "text/plain": [
       "<matplotlib.image.AxesImage at 0x1b23c5ebac0>"
      ]
     },
     "execution_count": 5,
     "metadata": {},
     "output_type": "execute_result"
    },
    {
     "data": {
      "image/png": "[encoded data removed]",
      "text/plain": [
       "<Figure size 432x288 with 1 Axes>"
      ]
     },
     "metadata": {
      "needs_background": "light"
     },
     "output_type": "display_data"
    }
   ],
   "source": [
    "plt.imshow(X_val[0])"
   ]
  },
  {
   "cell_type": "code",
   "execution_count": 10,
   "metadata": {},
   "outputs": [],
   "source": [
    "tf.random.set_seed(42)\n",
    "np.random.seed(42)\n",
    "\n",
    "dropout_encoder = keras.models.Sequential([\n",
    "    keras.layers.Flatten(input_shape=[28,28]),\n",
    "    keras.layers.GaussianNoise(0.1),\n",
    "    keras.layers.Dense(200, activation = \"selu\"),\n",
    "    keras.layers.Dense(100, activation = \"selu\"),\n",
    "    keras.layers.Dense(30, activation = \"selu\")\n",
    "])\n",
    "\n",
    "dropout_decoder = keras.models.Sequential([\n",
    "    keras.layers.Dense(200, activation = \"selu\", input_shape=[30]),\n",
    "    keras.layers.Dense(100, activation = \"selu\"),\n",
    "    keras.layers.Dense(28*28, activation = \"sigmoid\"),\n",
    "    keras.layers.Reshape([28,28])\n",
    "])\n",
    "\n",
    "dropout_autoencoder = keras.models.Sequential([dropout_encoder, dropout_decoder])\n",
    "\n",
    "dropout_autoencoder.compile(loss = \"binary_crossentropy\",metrics=[\"mse\"], optimizer = keras.optimizers.SGD(learning_rate = 0.5))"
   ]
  },
  {
   "cell_type": "code",
   "execution_count": 11,
   "metadata": {},
   "outputs": [
    {
     "name": "stdout",
     "output_type": "stream",
     "text": [
      "Model: \"sequential_3\"\n",
      "_________________________________________________________________\n",
      " Layer (type)                Output Shape              Param #   \n",
      "=================================================================\n",
      " flatten_1 (Flatten)         (None, 784)               0         \n",
      "                                                                 \n",
      " gaussian_noise_1 (GaussianN  (None, 784)              0         \n",
      " oise)                                                           \n",
      "                                                                 \n",
      " dense_6 (Dense)             (None, 200)               157000    \n",
      "                                                                 \n",
      " dense_7 (Dense)             (None, 100)               20100     \n",
      "                                                                 \n",
      " dense_8 (Dense)             (None, 30)                3030      \n",
      "                                                                 \n",
      "=================================================================\n",
      "Total params: 180,130\n",
      "Trainable params: 180,130\n",
      "Non-trainable params: 0\n",
      "_________________________________________________________________\n",
      "Model: \"sequential_4\"\n",
      "_________________________________________________________________\n",
      " Layer (type)                Output Shape              Param #   \n",
      "=================================================================\n",
      " dense_9 (Dense)             (None, 200)               6200      \n",
      "                                                                 \n",
      " dense_10 (Dense)            (None, 100)               20100     \n",
      "                                                                 \n",
      " dense_11 (Dense)            (None, 784)               79184     \n",
      "                                                                 \n",
      " reshape_1 (Reshape)         (None, 28, 28)            0         \n",
      "                                                                 \n",
      "=================================================================\n",
      "Total params: 105,484\n",
      "Trainable params: 105,484\n",
      "Non-trainable params: 0\n",
      "_________________________________________________________________\n"
     ]
    }
   ],
   "source": [
    "dropout_encoder.summary()\n",
    "dropout_decoder.summary()"
   ]
  },
  {
   "cell_type": "code",
   "execution_count": 12,
   "metadata": {},
   "outputs": [],
   "source": [
    "earlystop = keras.callbacks.EarlyStopping(monitor= \"val_loss\", patience = 5)"
   ]
  },
  {
   "cell_type": "code",
   "execution_count": 13,
   "metadata": {
    "scrolled": true
   },
   "outputs": [
    {
     "name": "stdout",
     "output_type": "stream",
     "text": [
      "Epoch 1/500\n",
      "1563/1563 [==============================] - 7s 4ms/step - loss: 0.2209 - mse: 0.0524 - val_loss: 0.1737 - val_mse: 0.0362\n",
      "Epoch 2/500\n",
      "1563/1563 [==============================] - 6s 4ms/step - loss: 0.1594 - mse: 0.0317 - val_loss: 0.1481 - val_mse: 0.0279\n",
      "Epoch 3/500\n",
      "1563/1563 [==============================] - 6s 4ms/step - loss: 0.1432 - mse: 0.0264 - val_loss: 0.1362 - val_mse: 0.0240\n",
      "Epoch 4/500\n",
      "1563/1563 [==============================] - 6s 4ms/step - loss: 0.1332 - mse: 0.0231 - val_loss: 0.1287 - val_mse: 0.0215\n",
      "Epoch 5/500\n",
      "1563/1563 [==============================] - 6s 4ms/step - loss: 0.1274 - mse: 0.0212 - val_loss: 0.1247 - val_mse: 0.0203\n",
      "Epoch 6/500\n",
      "1563/1563 [==============================] - 6s 4ms/step - loss: 0.1241 - mse: 0.0202 - val_loss: 0.1210 - val_mse: 0.0191\n",
      "Epoch 7/500\n",
      "1563/1563 [==============================] - 6s 4ms/step - loss: 0.1212 - mse: 0.0192 - val_loss: 0.1186 - val_mse: 0.0184\n",
      "Epoch 8/500\n",
      "1563/1563 [==============================] - 6s 4ms/step - loss: 0.1186 - mse: 0.0184 - val_loss: 0.1181 - val_mse: 0.0181\n",
      "Epoch 9/500\n",
      "1563/1563 [==============================] - 7s 4ms/step - loss: 0.1167 - mse: 0.0178 - val_loss: 0.1163 - val_mse: 0.0177\n",
      "Epoch 10/500\n",
      "1563/1563 [==============================] - 7s 4ms/step - loss: 0.1150 - mse: 0.0173 - val_loss: 0.1130 - val_mse: 0.0165\n",
      "Epoch 11/500\n",
      "1563/1563 [==============================] - 7s 4ms/step - loss: 0.1132 - mse: 0.0167 - val_loss: 0.1104 - val_mse: 0.0157\n",
      "Epoch 12/500\n",
      "1563/1563 [==============================] - 6s 4ms/step - loss: 0.1114 - mse: 0.0161 - val_loss: 0.1093 - val_mse: 0.0153\n",
      "Epoch 13/500\n",
      "1563/1563 [==============================] - 7s 4ms/step - loss: 0.1101 - mse: 0.0157 - val_loss: 0.1084 - val_mse: 0.0150\n",
      "Epoch 14/500\n",
      "1563/1563 [==============================] - 6s 4ms/step - loss: 0.1088 - mse: 0.0153 - val_loss: 0.1074 - val_mse: 0.0147\n",
      "Epoch 15/500\n",
      "1563/1563 [==============================] - 6s 4ms/step - loss: 0.1074 - mse: 0.0148 - val_loss: 0.1066 - val_mse: 0.0144\n",
      "Epoch 16/500\n",
      "1563/1563 [==============================] - 6s 4ms/step - loss: 0.1063 - mse: 0.0144 - val_loss: 0.1044 - val_mse: 0.0137\n",
      "Epoch 17/500\n",
      "1563/1563 [==============================] - 7s 4ms/step - loss: 0.1053 - mse: 0.0141 - val_loss: 0.1043 - val_mse: 0.0137\n",
      "Epoch 18/500\n",
      "1563/1563 [==============================] - 7s 4ms/step - loss: 0.1043 - mse: 0.0138 - val_loss: 0.1022 - val_mse: 0.0130\n",
      "Epoch 19/500\n",
      "1563/1563 [==============================] - 6s 4ms/step - loss: 0.1034 - mse: 0.0135 - val_loss: 0.1018 - val_mse: 0.0129\n",
      "Epoch 20/500\n",
      "1563/1563 [==============================] - 6s 4ms/step - loss: 0.1026 - mse: 0.0133 - val_loss: 0.1013 - val_mse: 0.0127\n",
      "Epoch 21/500\n",
      "1563/1563 [==============================] - 6s 4ms/step - loss: 0.1020 - mse: 0.0131 - val_loss: 0.1003 - val_mse: 0.0124\n",
      "Epoch 22/500\n",
      "1563/1563 [==============================] - 7s 4ms/step - loss: 0.1014 - mse: 0.0129 - val_loss: 0.1009 - val_mse: 0.0126\n",
      "Epoch 23/500\n",
      "1563/1563 [==============================] - 7s 4ms/step - loss: 0.1008 - mse: 0.0127 - val_loss: 0.1003 - val_mse: 0.0124\n",
      "Epoch 24/500\n",
      "1563/1563 [==============================] - 6s 4ms/step - loss: 0.1003 - mse: 0.0125 - val_loss: 0.0996 - val_mse: 0.0122\n",
      "Epoch 25/500\n",
      "1563/1563 [==============================] - 5s 4ms/step - loss: 0.0996 - mse: 0.0123 - val_loss: 0.0994 - val_mse: 0.0121\n",
      "Epoch 26/500\n",
      "1563/1563 [==============================] - 6s 4ms/step - loss: 0.0989 - mse: 0.0121 - val_loss: 0.0978 - val_mse: 0.0116\n",
      "Epoch 27/500\n",
      "1563/1563 [==============================] - 7s 4ms/step - loss: 0.0982 - mse: 0.0119 - val_loss: 0.0984 - val_mse: 0.0118\n",
      "Epoch 28/500\n",
      "1563/1563 [==============================] - 7s 4ms/step - loss: 0.0976 - mse: 0.0116 - val_loss: 0.0953 - val_mse: 0.0108\n",
      "Epoch 29/500\n",
      "1563/1563 [==============================] - 7s 4ms/step - loss: 0.0970 - mse: 0.0115 - val_loss: 0.0956 - val_mse: 0.0109\n",
      "Epoch 30/500\n",
      "1563/1563 [==============================] - 6s 4ms/step - loss: 0.0964 - mse: 0.0113 - val_loss: 0.0947 - val_mse: 0.0106\n",
      "Epoch 31/500\n",
      "1563/1563 [==============================] - 6s 4ms/step - loss: 0.0959 - mse: 0.0111 - val_loss: 0.0946 - val_mse: 0.0106\n",
      "Epoch 32/500\n",
      "1563/1563 [==============================] - 6s 4ms/step - loss: 0.0954 - mse: 0.0109 - val_loss: 0.0949 - val_mse: 0.0107\n",
      "Epoch 33/500\n",
      "1563/1563 [==============================] - 7s 4ms/step - loss: 0.0950 - mse: 0.0108 - val_loss: 0.0939 - val_mse: 0.0104\n",
      "Epoch 34/500\n",
      "1563/1563 [==============================] - 6s 4ms/step - loss: 0.0946 - mse: 0.0107 - val_loss: 0.0930 - val_mse: 0.0101\n",
      "Epoch 35/500\n",
      "1563/1563 [==============================] - 6s 4ms/step - loss: 0.0943 - mse: 0.0106 - val_loss: 0.0927 - val_mse: 0.0100\n",
      "Epoch 36/500\n",
      "1563/1563 [==============================] - 6s 4ms/step - loss: 0.0940 - mse: 0.0105 - val_loss: 0.0925 - val_mse: 0.0099\n",
      "Epoch 37/500\n",
      "1563/1563 [==============================] - 6s 4ms/step - loss: 0.0937 - mse: 0.0104 - val_loss: 0.0921 - val_mse: 0.0098\n",
      "Epoch 38/500\n",
      "1563/1563 [==============================] - 6s 4ms/step - loss: 0.0934 - mse: 0.0103 - val_loss: 0.0927 - val_mse: 0.0100\n",
      "Epoch 39/500\n",
      "1563/1563 [==============================] - 6s 4ms/step - loss: 0.0932 - mse: 0.0102 - val_loss: 0.0923 - val_mse: 0.0098\n",
      "Epoch 40/500\n",
      "1563/1563 [==============================] - 7s 4ms/step - loss: 0.0930 - mse: 0.0102 - val_loss: 0.0923 - val_mse: 0.0099\n",
      "Epoch 41/500\n",
      "1563/1563 [==============================] - 6s 4ms/step - loss: 0.0927 - mse: 0.0101 - val_loss: 0.0915 - val_mse: 0.0096\n",
      "Epoch 42/500\n",
      "1563/1563 [==============================] - 7s 4ms/step - loss: 0.0925 - mse: 0.0100 - val_loss: 0.0907 - val_mse: 0.0094\n",
      "Epoch 43/500\n",
      "1563/1563 [==============================] - 6s 4ms/step - loss: 0.0923 - mse: 0.0100 - val_loss: 0.0913 - val_mse: 0.0095\n",
      "Epoch 44/500\n",
      "1563/1563 [==============================] - 6s 4ms/step - loss: 0.0921 - mse: 0.0099 - val_loss: 0.0911 - val_mse: 0.0095\n",
      "Epoch 45/500\n",
      "1563/1563 [==============================] - 6s 4ms/step - loss: 0.0919 - mse: 0.0098 - val_loss: 0.0909 - val_mse: 0.0094\n",
      "Epoch 46/500\n",
      "1563/1563 [==============================] - 7s 4ms/step - loss: 0.0917 - mse: 0.0098 - val_loss: 0.0902 - val_mse: 0.0092\n",
      "Epoch 47/500\n",
      "1563/1563 [==============================] - 6s 4ms/step - loss: 0.0915 - mse: 0.0097 - val_loss: 0.0905 - val_mse: 0.0093\n",
      "Epoch 48/500\n",
      "1563/1563 [==============================] - 6s 4ms/step - loss: 0.0913 - mse: 0.0096 - val_loss: 0.0899 - val_mse: 0.0091\n",
      "Epoch 49/500\n",
      "1563/1563 [==============================] - 6s 4ms/step - loss: 0.0911 - mse: 0.0096 - val_loss: 0.0897 - val_mse: 0.0090\n",
      "Epoch 50/500\n",
      "1563/1563 [==============================] - 7s 4ms/step - loss: 0.0908 - mse: 0.0095 - val_loss: 0.0895 - val_mse: 0.0090\n",
      "Epoch 51/500\n",
      "1563/1563 [==============================] - 7s 5ms/step - loss: 0.0907 - mse: 0.0095 - val_loss: 0.0901 - val_mse: 0.0092\n",
      "Epoch 52/500\n",
      "1563/1563 [==============================] - 7s 5ms/step - loss: 0.0905 - mse: 0.0094 - val_loss: 0.0892 - val_mse: 0.0089\n",
      "Epoch 53/500\n",
      "1563/1563 [==============================] - 7s 4ms/step - loss: 0.0903 - mse: 0.0093 - val_loss: 0.0889 - val_mse: 0.0088\n",
      "Epoch 54/500\n",
      "1563/1563 [==============================] - 6s 4ms/step - loss: 0.0902 - mse: 0.0093 - val_loss: 0.0891 - val_mse: 0.0088\n",
      "Epoch 55/500\n",
      "1563/1563 [==============================] - 6s 4ms/step - loss: 0.0900 - mse: 0.0092 - val_loss: 0.0894 - val_mse: 0.0089\n",
      "Epoch 56/500\n",
      "1563/1563 [==============================] - 6s 4ms/step - loss: 0.0899 - mse: 0.0092 - val_loss: 0.0884 - val_mse: 0.0086\n",
      "Epoch 57/500\n",
      "1563/1563 [==============================] - 6s 4ms/step - loss: 0.0896 - mse: 0.0091 - val_loss: 0.0893 - val_mse: 0.0089\n",
      "Epoch 58/500\n",
      "1563/1563 [==============================] - 6s 4ms/step - loss: 0.0894 - mse: 0.0091 - val_loss: 0.0883 - val_mse: 0.0086\n",
      "Epoch 59/500\n",
      "1563/1563 [==============================] - 6s 4ms/step - loss: 0.0892 - mse: 0.0090 - val_loss: 0.0884 - val_mse: 0.0086\n",
      "Epoch 60/500\n",
      "1563/1563 [==============================] - 6s 4ms/step - loss: 0.0890 - mse: 0.0089 - val_loss: 0.0878 - val_mse: 0.0084\n",
      "Epoch 61/500\n"
     ]
    },
    {
     "name": "stdout",
     "output_type": "stream",
     "text": [
      "1563/1563 [==============================] - 6s 4ms/step - loss: 0.0889 - mse: 0.0089 - val_loss: 0.0878 - val_mse: 0.0084\n",
      "Epoch 62/500\n",
      "1563/1563 [==============================] - 6s 4ms/step - loss: 0.0887 - mse: 0.0088 - val_loss: 0.0875 - val_mse: 0.0083\n",
      "Epoch 63/500\n",
      "1563/1563 [==============================] - 6s 4ms/step - loss: 0.0885 - mse: 0.0088 - val_loss: 0.0871 - val_mse: 0.0082\n",
      "Epoch 64/500\n",
      "1563/1563 [==============================] - 6s 4ms/step - loss: 0.0884 - mse: 0.0087 - val_loss: 0.0870 - val_mse: 0.0082\n",
      "Epoch 65/500\n",
      "1563/1563 [==============================] - 6s 4ms/step - loss: 0.0882 - mse: 0.0087 - val_loss: 0.0868 - val_mse: 0.0081\n",
      "Epoch 66/500\n",
      "1563/1563 [==============================] - 6s 4ms/step - loss: 0.0880 - mse: 0.0086 - val_loss: 0.0873 - val_mse: 0.0082\n",
      "Epoch 67/500\n",
      "1563/1563 [==============================] - 5s 3ms/step - loss: 0.0879 - mse: 0.0086 - val_loss: 0.0872 - val_mse: 0.0082\n",
      "Epoch 68/500\n",
      "1563/1563 [==============================] - 6s 4ms/step - loss: 0.0878 - mse: 0.0085 - val_loss: 0.0867 - val_mse: 0.0081\n",
      "Epoch 69/500\n",
      "1563/1563 [==============================] - 6s 4ms/step - loss: 0.0875 - mse: 0.0085 - val_loss: 0.0862 - val_mse: 0.0079\n",
      "Epoch 70/500\n",
      "1563/1563 [==============================] - 6s 4ms/step - loss: 0.0874 - mse: 0.0084 - val_loss: 0.0859 - val_mse: 0.0078\n",
      "Epoch 71/500\n",
      "1563/1563 [==============================] - 6s 4ms/step - loss: 0.0872 - mse: 0.0084 - val_loss: 0.0867 - val_mse: 0.0081\n",
      "Epoch 72/500\n",
      "1563/1563 [==============================] - 6s 4ms/step - loss: 0.0871 - mse: 0.0083 - val_loss: 0.0867 - val_mse: 0.0081\n",
      "Epoch 73/500\n",
      "1563/1563 [==============================] - 6s 4ms/step - loss: 0.0870 - mse: 0.0083 - val_loss: 0.0857 - val_mse: 0.0078\n",
      "Epoch 74/500\n",
      "1563/1563 [==============================] - 7s 5ms/step - loss: 0.0868 - mse: 0.0082 - val_loss: 0.0855 - val_mse: 0.0077\n",
      "Epoch 75/500\n",
      "1563/1563 [==============================] - 6s 4ms/step - loss: 0.0867 - mse: 0.0082 - val_loss: 0.0856 - val_mse: 0.0077\n",
      "Epoch 76/500\n",
      "1563/1563 [==============================] - 6s 4ms/step - loss: 0.0866 - mse: 0.0082 - val_loss: 0.0859 - val_mse: 0.0078\n",
      "Epoch 77/500\n",
      "1563/1563 [==============================] - 6s 4ms/step - loss: 0.0865 - mse: 0.0081 - val_loss: 0.0854 - val_mse: 0.0077\n",
      "Epoch 78/500\n",
      "1563/1563 [==============================] - 6s 4ms/step - loss: 0.0864 - mse: 0.0081 - val_loss: 0.0853 - val_mse: 0.0076\n",
      "Epoch 79/500\n",
      "1563/1563 [==============================] - 6s 4ms/step - loss: 0.0863 - mse: 0.0081 - val_loss: 0.0857 - val_mse: 0.0078\n",
      "Epoch 80/500\n",
      "1563/1563 [==============================] - 7s 4ms/step - loss: 0.0862 - mse: 0.0080 - val_loss: 0.0859 - val_mse: 0.0078\n",
      "Epoch 81/500\n",
      "1563/1563 [==============================] - 6s 4ms/step - loss: 0.0861 - mse: 0.0080 - val_loss: 0.0849 - val_mse: 0.0075\n",
      "Epoch 82/500\n",
      "1563/1563 [==============================] - 6s 4ms/step - loss: 0.0860 - mse: 0.0080 - val_loss: 0.0850 - val_mse: 0.0075\n",
      "Epoch 83/500\n",
      "1563/1563 [==============================] - 6s 4ms/step - loss: 0.0859 - mse: 0.0079 - val_loss: 0.0848 - val_mse: 0.0075\n",
      "Epoch 84/500\n",
      "1563/1563 [==============================] - 6s 4ms/step - loss: 0.0858 - mse: 0.0079 - val_loss: 0.0843 - val_mse: 0.0073\n",
      "Epoch 85/500\n",
      "1563/1563 [==============================] - 5s 3ms/step - loss: 0.0857 - mse: 0.0079 - val_loss: 0.0846 - val_mse: 0.0074\n",
      "Epoch 86/500\n",
      "1563/1563 [==============================] - 7s 4ms/step - loss: 0.0857 - mse: 0.0079 - val_loss: 0.0851 - val_mse: 0.0076\n",
      "Epoch 87/500\n",
      "1563/1563 [==============================] - 7s 4ms/step - loss: 0.0856 - mse: 0.0078 - val_loss: 0.0843 - val_mse: 0.0073\n",
      "Epoch 88/500\n",
      "1563/1563 [==============================] - 7s 4ms/step - loss: 0.0855 - mse: 0.0078 - val_loss: 0.0844 - val_mse: 0.0074\n",
      "Epoch 89/500\n",
      "1563/1563 [==============================] - 6s 4ms/step - loss: 0.0855 - mse: 0.0078 - val_loss: 0.0853 - val_mse: 0.0076\n"
     ]
    }
   ],
   "source": [
    "history = dropout_autoencoder.fit(X_train, X_train, validation_data = (X_val, X_val), epochs = 500, callbacks = [earlystop])"
   ]
  },
  {
   "cell_type": "code",
   "execution_count": 14,
   "metadata": {},
   "outputs": [
    {
     "data": {
      "image/png": "[encoded data removed]",
      "text/plain": [
       "<Figure size 432x288 with 1 Axes>"
      ]
     },
     "metadata": {
      "needs_background": "light"
     },
     "output_type": "display_data"
    }
   ],
   "source": [
    "plt.plot(history.history['loss'])\n",
    "plt.plot(history.history['val_loss'])\n",
    "plt.title('model loss')\n",
    "plt.ylabel('loss')\n",
    "plt.xlabel('epoch')\n",
    "plt.legend(['train', 'val'], loc='upper right')\n",
    "plt.show()"
   ]
  },
  {
   "cell_type": "code",
   "execution_count": 15,
   "metadata": {},
   "outputs": [
    {
     "data": {
      "image/png": "[encoded data removed]",
      "text/plain": [
       "<Figure size 432x720 with 15 Axes>"
      ]
     },
     "metadata": {
      "needs_background": "light"
     },
     "output_type": "display_data"
    }
   ],
   "source": [
    "n_images = 5\n",
    "new_images = X_test[:n_images]\n",
    "new_images_noisy = new_images + np.random.randn(n_images, 28, 28) * 0.1\n",
    "new_images_denoised = dropout_autoencoder.predict(new_images_noisy)\n",
    "\n",
    "plt.figure(figsize=(6, n_images * 2))\n",
    "for index in range(n_images):\n",
    "    plt.subplot(n_images, 3, index * 3 + 1)\n",
    "    plt.imshow(new_images[index])\n",
    "    plt.axis('off')\n",
    "    if index == 0:\n",
    "        plt.title(\"Original\")\n",
    "    plt.subplot(n_images, 3, index * 3 + 2)\n",
    "    plt.imshow(np.clip(new_images_noisy[index], 0., 1.))\n",
    "    plt.axis('off')\n",
    "    if index == 0:\n",
    "        plt.title(\"Noisy\")\n",
    "    plt.subplot(n_images, 3, index * 3 + 3)\n",
    "    plt.imshow(new_images_denoised[index])\n",
    "    plt.axis('off')\n",
    "    if index == 0:\n",
    "        plt.title(\"Denoised\")\n",
    "plt.show()"
   ]
  },
  {
   "cell_type": "code",
   "execution_count": null,
   "metadata": {},
   "outputs": [],
   "source": []
  }
 ],
 "metadata": {
  "kernelspec": {
   "display_name": "Python 3",
   "language": "python",
   "name": "python3"
  },
  "language_info": {
   "codemirror_mode": {
    "name": "ipython",
    "version": 3
   },
   "file_extension": ".py",
   "mimetype": "text/x-python",
   "name": "python",
   "nbconvert_exporter": "python",
   "pygments_lexer": "ipython3",
   "version": "3.8.5"
  }
 },
 "nbformat": 4,
 "nbformat_minor": 4
}
